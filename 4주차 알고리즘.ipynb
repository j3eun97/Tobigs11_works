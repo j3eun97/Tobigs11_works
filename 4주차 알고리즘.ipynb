{
 "cells": [
  {
   "cell_type": "code",
   "execution_count": 2,
   "metadata": {},
   "outputs": [],
   "source": [
    "from Student import *\n",
    "from Ban import *"
   ]
  },
  {
   "cell_type": "code",
   "execution_count": 3,
   "metadata": {},
   "outputs": [
    {
     "name": "stdout",
     "output_type": "stream",
     "text": [
      "<1반>  9명\n",
      "1번 박세진\n",
      "2번 이정훈\n",
      "3번 이윤경\n",
      "4번 임정훈\n",
      "5번 오세형\n",
      "6번 정소영\n",
      "7번 이미영\n",
      "8번 김영은\n",
      "9번 강선우\n",
      "\n",
      "<2반>  9명\n",
      "1번 박현우\n",
      "2번 정준우\n",
      "3번 박미영\n",
      "4번 이지연\n",
      "5번 조영민\n",
      "6번 김종현\n",
      "7번 김준영\n",
      "8번 박영빈\n",
      "9번 조형식\n",
      "\n",
      "<3반>  7명\n",
      "1번 박현희\n",
      "2번 정은호\n",
      "3번 이미경\n",
      "4번 박영희\n",
      "5번 조희수\n",
      "6번 주영은\n",
      "7번 정재영\n",
      "\n",
      "<4반>  3명\n",
      "1번 홍길동\n",
      "2번 백경준\n",
      "3번 이정수\n",
      "\n",
      "<5반>  7명\n",
      "1번 박윤경\n",
      "2번 이은지\n",
      "3번 김정은\n",
      "4번 장영철\n",
      "5번 김영준\n",
      "6번 장영진\n",
      "7번 조윤희\n",
      "\n"
     ]
    }
   ],
   "source": [
    "\n",
    "with open('student.txt', 'r', encoding='utf8') as f:\n",
    "    Ban_list = []\n",
    "    for i in f:\n",
    "        tmp = i.strip().split(' ')\n",
    "        student = Student(tmp[2],tmp[0])\n",
    "        ban = Ban(tmp[1])\n",
    "        if ban not in Ban_list:\n",
    "            Ban_list.append(ban)\n",
    "            \n",
    "        for i in Ban_list:\n",
    "            if i.no == tmp[1]:\n",
    "                i.student_list.append(student)\n",
    "            i.student_list.sort()\n",
    "            \n",
    "Ban_list.sort()\n",
    "    \n",
    "for i in Ban_list:\n",
    "    print(i)\n",
    "    for j in i.student_list:\n",
    "        print(j)\n",
    "    print()"
   ]
  },
  {
   "cell_type": "code",
   "execution_count": null,
   "metadata": {},
   "outputs": [],
   "source": []
  }
 ],
 "metadata": {
  "kernelspec": {
   "display_name": "Python 3",
   "language": "python",
   "name": "python3"
  },
  "language_info": {
   "codemirror_mode": {
    "name": "ipython",
    "version": 3
   },
   "file_extension": ".py",
   "mimetype": "text/x-python",
   "name": "python",
   "nbconvert_exporter": "python",
   "pygments_lexer": "ipython3",
   "version": "3.7.2"
  }
 },
 "nbformat": 4,
 "nbformat_minor": 2
}
