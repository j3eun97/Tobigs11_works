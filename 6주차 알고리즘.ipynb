{
 "cells": [
  {
   "cell_type": "code",
   "execution_count": 2,
   "metadata": {},
   "outputs": [],
   "source": [
    "import multiprocessing as mp\n",
    "import pandas as pd\n",
    "import numpy as np\n",
    "import time\n",
    "import datetime\n",
    "from tqdm import tqdm\n",
    "from tqdm import trange \n",
    "import multiprocessing\n",
    "from func import *\n",
    "import os"
   ]
  },
  {
   "cell_type": "code",
   "execution_count": 3,
   "metadata": {},
   "outputs": [],
   "source": [
    "data= pd.read_csv(r'group_call_HMS.csv')"
   ]
  },
  {
   "cell_type": "code",
   "execution_count": null,
   "metadata": {},
   "outputs": [
    {
     "name": "stdout",
     "output_type": "stream",
     "text": [
      "   call_start_day call_start_time  call_end_day call_end_time  \\\n",
      "0               1    09:14:58.558             1  09:41:30.200   \n",
      "1              17    11:05:05.176            17  13:07:42.515   \n",
      "2              20    02:18:43.172            20  02:28:58.177   \n",
      "3              22    09:22:01.936            22  09:47:40.192   \n",
      "4              26    06:29:21.182            26  06:50:55.004   \n",
      "\n",
      "                                              hashed  \n",
      "0  967393e81d99ce8e577ee130b7ce8e4fd45e3e9cecb560...  \n",
      "1  02181a0c962f34f019bc9d5b582fb0ec79b1441f96aa4d...  \n",
      "2  86022904c5cf72a54978479c94041f4256d6c3c2a1f71c...  \n",
      "3  aafb40d212fe18ff4eafb82fdcf3b53f2161cb3ce59de4...  \n",
      "4  c87c2fad141edf323f3787335b54be22945a02fe052448...  \n"
     ]
    }
   ],
   "source": [
    "print(data.head())"
   ]
  },
  {
   "cell_type": "code",
   "execution_count": 4,
   "metadata": {},
   "outputs": [
    {
     "data": {
      "text/plain": [
       "'967393e81d99ce8e577ee130b7ce8e4fd45e3e9cecb560de427ede6ea49e024f,a0b6ecbec654b18fe36ebe6230e25a653fb12125733583d012741572134447f4,3193ab18168bcadbcb8342c06c4a35fa0d6e58d9619fe805fb811fc4e6562fef'"
      ]
     },
     "execution_count": 4,
     "metadata": {},
     "output_type": "execute_result"
    }
   ],
   "source": [
    "data['hashed'][0]"
   ]
  },
  {
   "cell_type": "code",
   "execution_count": 5,
   "metadata": {},
   "outputs": [],
   "source": [
    "def to_seconds(x):\n",
    "    seconds=3600*int(x[:2])+60*int(x[3:5])+float(x[6:])\n",
    "    return seconds"
   ]
  },
  {
   "cell_type": "code",
   "execution_count": 6,
   "metadata": {},
   "outputs": [],
   "source": [
    "data.call_start_time=data.call_start_time.apply(to_seconds)\n",
    "data.call_end_time=data.call_end_time.apply(to_seconds)"
   ]
  },
  {
   "cell_type": "code",
   "execution_count": 7,
   "metadata": {},
   "outputs": [],
   "source": [
    "data[\"duration\"]=3600*24*(data.call_end_day-data.call_start_day)+data.call_end_time-data.call_start_time"
   ]
  },
  {
   "cell_type": "code",
   "execution_count": 8,
   "metadata": {},
   "outputs": [],
   "source": [
    "del data[\"call_start_time\"]\n",
    "del data['call_end_time']\n",
    "del data['call_end_day']\n",
    "del data['call_start_day']"
   ]
  },
  {
   "cell_type": "code",
   "execution_count": 9,
   "metadata": {},
   "outputs": [
    {
     "name": "stdout",
     "output_type": "stream",
     "text": [
      "                                              hashed  duration\n",
      "0  967393e81d99ce8e577ee130b7ce8e4fd45e3e9cecb560...  1591.642\n",
      "1  02181a0c962f34f019bc9d5b582fb0ec79b1441f96aa4d...  7357.339\n",
      "2  86022904c5cf72a54978479c94041f4256d6c3c2a1f71c...   615.005\n",
      "3  aafb40d212fe18ff4eafb82fdcf3b53f2161cb3ce59de4...  1538.256\n",
      "4  c87c2fad141edf323f3787335b54be22945a02fe052448...  1293.822\n"
     ]
    },
    {
     "data": {
      "text/plain": [
       "6962341"
      ]
     },
     "execution_count": 9,
     "metadata": {},
     "output_type": "execute_result"
    }
   ],
   "source": [
    "print(data.head())\n",
    "data1=data\n",
    "len(data)"
   ]
  },
  {
   "cell_type": "code",
   "execution_count": 26,
   "metadata": {},
   "outputs": [
    {
     "name": "stderr",
     "output_type": "stream",
     "text": [
      "100%|██████████| 6962341/6962341 [01:08<00:00, 101091.54it/s]\n"
     ]
    }
   ],
   "source": [
    "hashed = (i for i in data1['hashed'])\n",
    "duration = (i for i in data1['duration'])\n",
    "\n",
    "sum_total = [{},{}]\n",
    "\n",
    "for i in trange(len(data1)):\n",
    "    has= next(hashed)\n",
    "    dur= next(duration)\n",
    "    happy= (i for i in has.split(','))\n",
    "    for j in range(len(has.split(','))):\n",
    "        temp_hashed=next(happy)\n",
    "        if temp_hashed in sum_total[0].keys():\n",
    "            sum_total[0][temp_hashed]+=1\n",
    "        else:\n",
    "            sum_total[0][temp_hashed]=1\n",
    "            \n",
    "        if temp_hashed in sum_total[1].keys():\n",
    "            sum_total[1][temp_hashed]+= dur\n",
    "        else:\n",
    "            sum_total[1][temp_hashed]= dur\n",
    "\n",
    "    "
   ]
  },
  {
   "cell_type": "code",
   "execution_count": 27,
   "metadata": {},
   "outputs": [],
   "source": [
    "data=pd.DataFrame(sum_total).T"
   ]
  },
  {
   "cell_type": "code",
   "execution_count": 28,
   "metadata": {},
   "outputs": [
    {
     "data": {
      "text/html": [
       "<div>\n",
       "<style scoped>\n",
       "    .dataframe tbody tr th:only-of-type {\n",
       "        vertical-align: middle;\n",
       "    }\n",
       "\n",
       "    .dataframe tbody tr th {\n",
       "        vertical-align: top;\n",
       "    }\n",
       "\n",
       "    .dataframe thead th {\n",
       "        text-align: right;\n",
       "    }\n",
       "</style>\n",
       "<table border=\"1\" class=\"dataframe\">\n",
       "  <thead>\n",
       "    <tr style=\"text-align: right;\">\n",
       "      <th></th>\n",
       "      <th>index</th>\n",
       "      <th>0</th>\n",
       "      <th>1</th>\n",
       "    </tr>\n",
       "  </thead>\n",
       "  <tbody>\n",
       "    <tr>\n",
       "      <th>0</th>\n",
       "      <td>000020b4fa2af1e40c813436e5054bce70b703d0039dcd...</td>\n",
       "      <td>1049.0</td>\n",
       "      <td>1714980.485</td>\n",
       "    </tr>\n",
       "    <tr>\n",
       "      <th>1</th>\n",
       "      <td>0000264b01392acfde44f9d8494f112a701dc5d3e5fda6...</td>\n",
       "      <td>777.0</td>\n",
       "      <td>1917417.648</td>\n",
       "    </tr>\n",
       "    <tr>\n",
       "      <th>2</th>\n",
       "      <td>00006916672106f94f68d18e4a0532b53a40f4549d3a62...</td>\n",
       "      <td>9.0</td>\n",
       "      <td>4181.431</td>\n",
       "    </tr>\n",
       "    <tr>\n",
       "      <th>3</th>\n",
       "      <td>0000988c5778e9d6a861fee8fbfd88ec2fdc9108c1acd6...</td>\n",
       "      <td>37.0</td>\n",
       "      <td>52531.516</td>\n",
       "    </tr>\n",
       "    <tr>\n",
       "      <th>4</th>\n",
       "      <td>0000a2ff91f6891797708f346d8e3790fa75c1872d6fdc...</td>\n",
       "      <td>222.0</td>\n",
       "      <td>193136.402</td>\n",
       "    </tr>\n",
       "  </tbody>\n",
       "</table>\n",
       "</div>"
      ],
      "text/plain": [
       "                                               index       0            1\n",
       "0  000020b4fa2af1e40c813436e5054bce70b703d0039dcd...  1049.0  1714980.485\n",
       "1  0000264b01392acfde44f9d8494f112a701dc5d3e5fda6...   777.0  1917417.648\n",
       "2  00006916672106f94f68d18e4a0532b53a40f4549d3a62...     9.0     4181.431\n",
       "3  0000988c5778e9d6a861fee8fbfd88ec2fdc9108c1acd6...    37.0    52531.516\n",
       "4  0000a2ff91f6891797708f346d8e3790fa75c1872d6fdc...   222.0   193136.402"
      ]
     },
     "execution_count": 28,
     "metadata": {},
     "output_type": "execute_result"
    }
   ],
   "source": [
    "data=data.reset_index()\n",
    "data.head()"
   ]
  },
  {
   "cell_type": "code",
   "execution_count": 32,
   "metadata": {},
   "outputs": [],
   "source": [
    "data=data.rename(columns={'index':'id', 0:'count', 1:'total_time'})"
   ]
  },
  {
   "cell_type": "code",
   "execution_count": 33,
   "metadata": {},
   "outputs": [],
   "source": [
    "data[\"mean_time\"]=data[\"total_time\"]/data[\"count\"]"
   ]
  },
  {
   "cell_type": "code",
   "execution_count": 34,
   "metadata": {},
   "outputs": [
    {
     "name": "stdout",
     "output_type": "stream",
     "text": [
      "                                                  id   count   total_time  \\\n",
      "0  000020b4fa2af1e40c813436e5054bce70b703d0039dcd...  1049.0  1714980.485   \n",
      "1  0000264b01392acfde44f9d8494f112a701dc5d3e5fda6...   777.0  1917417.648   \n",
      "2  00006916672106f94f68d18e4a0532b53a40f4549d3a62...     9.0     4181.431   \n",
      "3  0000988c5778e9d6a861fee8fbfd88ec2fdc9108c1acd6...    37.0    52531.516   \n",
      "4  0000a2ff91f6891797708f346d8e3790fa75c1872d6fdc...   222.0   193136.402   \n",
      "\n",
      "     mean_time  \n",
      "0  1634.871768  \n",
      "1  2467.718981  \n",
      "2   464.603444  \n",
      "3  1419.770703  \n",
      "4   869.983793  \n"
     ]
    }
   ],
   "source": [
    "print(data.head())"
   ]
  },
  {
   "cell_type": "code",
   "execution_count": null,
   "metadata": {},
   "outputs": [],
   "source": []
  }
 ],
 "metadata": {
  "kernelspec": {
   "display_name": "Python 3",
   "language": "python",
   "name": "python3"
  },
  "language_info": {
   "codemirror_mode": {
    "name": "ipython",
    "version": 3
   },
   "file_extension": ".py",
   "mimetype": "text/x-python",
   "name": "python",
   "nbconvert_exporter": "python",
   "pygments_lexer": "ipython3",
   "version": "3.6.8"
  }
 },
 "nbformat": 4,
 "nbformat_minor": 2
}
