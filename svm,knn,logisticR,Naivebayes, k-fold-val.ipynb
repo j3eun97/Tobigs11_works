{
 "cells": [
  {
   "cell_type": "code",
   "execution_count": 1,
   "metadata": {},
   "outputs": [],
   "source": [
    "import pandas as pd\n",
    "from pandas import DataFrame as df\n",
    "from pandas import Series\n",
    "import numpy as np\n",
    "import datetime\n",
    "from datetime import datetime, time, date\n",
    "from datetime import timedelta\n",
    "import seaborn as sb\n",
    "from sklearn.linear_model import LogisticRegression\n",
    "from sklearn.model_selection import train_test_split\n",
    "from sklearn.metrics import confusion_matrix\n",
    "from sklearn.metrics import classification_report\n",
    "from sklearn.naive_bayes import GaussianNB\n",
    "from sklearn.model_selection import StratifiedKFold\n",
    "from sklearn.neighbors import KNeighborsClassifier\n",
    "from sklearn.model_selection import GridSearchCV\n",
    "from sklearn import svm"
   ]
  },
  {
   "cell_type": "code",
   "execution_count": 2,
   "metadata": {},
   "outputs": [
    {
     "name": "stdout",
     "output_type": "stream",
     "text": [
      "   Auction_key Auction_class Bid_class  Claim_price Appraisal_company  \\\n",
      "0         2687            임의        개별   1766037301              정명감정   \n",
      "1         2577            임의        일반    152946867               희감정   \n",
      "2         2197            임의        개별     11326510              혜림감정   \n",
      "3         2642            임의        일반    183581724              신라감정   \n",
      "4         1958            강제        일반     45887671              나라감정   \n",
      "\n",
      "        Appraisal_date  Auction_count  Auction_miscarriage_count  \\\n",
      "0  2017-07-26 00:00:00              2                          1   \n",
      "1  2016-09-12 00:00:00              2                          1   \n",
      "2  2016-11-22 00:00:00              3                          2   \n",
      "3  2016-12-13 00:00:00              2                          1   \n",
      "4  2016-03-07 00:00:00              2                          1   \n",
      "\n",
      "   Total_land_gross_area  Total_land_real_area     ...       Specific  \\\n",
      "0                12592.0                 37.35     ...            NaN   \n",
      "1                42478.1                 18.76     ...            NaN   \n",
      "2               149683.1                 71.00     ...            NaN   \n",
      "3                24405.0                 32.98     ...            NaN   \n",
      "4                  774.0                 45.18     ...            NaN   \n",
      "\n",
      "   Share_auction_YorN   road_name  road_bunji1  road_bunji2  \\\n",
      "0                   N      해운대해변로         30.0          NaN   \n",
      "1                   N      마린시티2로         33.0          NaN   \n",
      "2                   N    모라로110번길         88.0          NaN   \n",
      "3                   N  황령대로319번가길        110.0          NaN   \n",
      "4                   N         오작로         51.0          NaN   \n",
      "\n",
      "            Close_date Close_result    point.y     point.x Hammer_price  \n",
      "0  2018-06-14 00:00:00           배당  35.162717  129.137048    760000000  \n",
      "1  2017-03-30 00:00:00           배당  35.156633  129.145068    971889999  \n",
      "2  2017-12-13 00:00:00           배당  35.184601  128.996765     93399999  \n",
      "3  2017-12-27 00:00:00           배당  35.154180  129.089081    256899000  \n",
      "4  2016-10-04 00:00:00           배당  35.099630  128.998874    158660000  \n",
      "\n",
      "[5 rows x 41 columns]\n",
      "0       2018-03-20 00:00:00\n",
      "1       2017-02-02 00:00:00\n",
      "2       2017-10-13 00:00:00\n",
      "3       2017-11-02 00:00:00\n",
      "4       2016-08-03 00:00:00\n",
      "5       2017-08-11 00:00:00\n",
      "6       2016-08-23 00:00:00\n",
      "7       2016-09-19 00:00:00\n",
      "8       2016-07-22 00:00:00\n",
      "9       2017-10-31 00:00:00\n",
      "10      2017-12-22 00:00:00\n",
      "11      2016-12-16 00:00:00\n",
      "12      2018-01-11 00:00:00\n",
      "13      2017-03-30 00:00:00\n",
      "14      2016-10-21 00:00:00\n",
      "15      2017-12-05 00:00:00\n",
      "16      2018-03-20 00:00:00\n",
      "17      2016-07-29 00:00:00\n",
      "18      2016-09-30 00:00:00\n",
      "19      2017-02-03 00:00:00\n",
      "20      2016-06-16 00:00:00\n",
      "21      2016-10-21 00:00:00\n",
      "22      2016-07-28 00:00:00\n",
      "23      2017-04-05 00:00:00\n",
      "24      2016-09-22 00:00:00\n",
      "25      2016-10-26 00:00:00\n",
      "26      2017-06-23 00:00:00\n",
      "27      2017-11-02 00:00:00\n",
      "28      2017-12-19 00:00:00\n",
      "29      2016-04-29 00:00:00\n",
      "               ...         \n",
      "1903    2017-12-14 00:00:00\n",
      "1904    2017-06-19 00:00:00\n",
      "1905    2016-08-22 00:00:00\n",
      "1906    2017-12-26 00:00:00\n",
      "1907    2018-03-26 00:00:00\n",
      "1908    2016-12-26 00:00:00\n",
      "1909    2017-05-30 00:00:00\n",
      "1910    2016-04-18 00:00:00\n",
      "1911    2016-06-13 00:00:00\n",
      "1912    2017-04-06 00:00:00\n",
      "1913    2017-04-03 00:00:00\n",
      "1914    2016-11-22 00:00:00\n",
      "1915    2016-08-16 00:00:00\n",
      "1916    2017-08-28 00:00:00\n",
      "1917    2018-01-24 00:00:00\n",
      "1918    2016-10-25 00:00:00\n",
      "1919    2017-01-09 00:00:00\n",
      "1920    2017-04-25 00:00:00\n",
      "1921    2017-04-17 00:00:00\n",
      "1922    2016-11-08 00:00:00\n",
      "1923    2016-09-07 00:00:00\n",
      "1924    2017-09-18 00:00:00\n",
      "1925    2017-03-27 00:00:00\n",
      "1926    2016-10-18 00:00:00\n",
      "1927    2016-07-06 00:00:00\n",
      "1928    2017-06-19 00:00:00\n",
      "1929    2017-03-13 00:00:00\n",
      "1930    2018-01-18 00:00:00\n",
      "1931    2016-11-14 00:00:00\n",
      "1932    2016-05-25 00:00:00\n",
      "Name: Final_auction_date, Length: 1933, dtype: object\n"
     ]
    }
   ],
   "source": [
    "data=pd.read_csv(\"Auction_master_train.csv\")\n",
    "data=pd.DataFrame(data)\n",
    "print(data.head())\n",
    "data.isnull().sum()\n",
    "print(data.Final_auction_date)"
   ]
  },
  {
   "cell_type": "code",
   "execution_count": 3,
   "metadata": {},
   "outputs": [],
   "source": [
    "data=data.drop(['Auction_key','point.x','point.y','road_bunji1','road_bunji2','Specific','addr_bunji2','addr_li',],axis=1)"
   ]
  },
  {
   "cell_type": "code",
   "execution_count": 4,
   "metadata": {},
   "outputs": [],
   "source": [
    "# y 라는 변수 설정. Hammer_price가 median 이상이면 1, 아니면 2\n",
    "data['y']=np.where(data['Hammer_price']>= data['Hammer_price'].median(), 1,2)"
   ]
  },
  {
   "cell_type": "code",
   "execution_count": 5,
   "metadata": {},
   "outputs": [],
   "source": [
    "data[\"Appraisal_date\"]=pd.to_datetime(data[\"Appraisal_date\"])\n",
    "data[\"First_auction_date\"]=pd.to_datetime(data[\"First_auction_date\"])\n",
    "data[\"Final_auction_date\"]=pd.to_datetime(data[\"Final_auction_date\"])\n",
    "data=data[data.Preserve_regist_date != \"1111-11-11 00:00:00\"]\n",
    "data[\"Preserve_regist_date\"]=pd.to_datetime(data[\"Preserve_regist_date\"])\n",
    "#등기등록날짜부터 감정일까지의 노후정도를나타내는 변수(감가상각 변수) = Repreciation\n",
    "data[\"Repreciation\"]=data[\"Appraisal_date\"]-data[\"Preserve_regist_date\"]\n",
    "data[\"Repreciation\"]=data[\"Repreciation\"].astype('timedelta64[D]')\n",
    "#경매 걸린 총 시간\n",
    "data[\"Duration\"]=data[\"Final_auction_date\"]-data[\"First_auction_date\"]\n",
    "data[\"Duration\"]=data[\"Duration\"].astype('timedelta64[D]')\n",
    "#총감정가의 몇 %를 최저매각가격으로 놓았는지 나타내는 변수 = minprice_per\n",
    "data[\"minprice_per\"]=data[\"Minimum_sales_price\"]/data[\"Total_appraisal_price\"]\n",
    "#건물별 맨위층 맨아래층 중간층은 가격차이가 있는점을 보고 층의 정도를 나타내는 변수 = floor_per, 아래층0 ~ 1위층\n",
    "data[\"floor_per\"]=data[\"Current_floor\"]/data[\"Total_floor\"]\n",
    "#전체 경매중 유찰의 비율\n",
    "data[\"Miscarraige_per\"]=data[\"Auction_miscarriage_count\"]/data[\"Auction_count\"]\n",
    "\n"
   ]
  },
  {
   "cell_type": "code",
   "execution_count": 6,
   "metadata": {},
   "outputs": [],
   "source": [
    "data=data.drop(['Appraisal_date','First_auction_date','Final_auction_date','Preserve_regist_date','Minimum_sales_price',\n",
    "               'Total_appraisal_price','Current_floor','Total_floor','addr_do','addr_dong','addr_san',\n",
    "               'addr_bunji1','addr_etc','road_name','Close_date','Hammer_price','Appraisal_company','Claim_price',\n",
    "               'Auction_count','Auction_miscarriage_count','Bid_class','Creditor','Total_land_gross_area',\n",
    "               'Total_land_real_area','Total_building_area','addr_si'],axis=1)"
   ]
  },
  {
   "cell_type": "code",
   "execution_count": 7,
   "metadata": {},
   "outputs": [],
   "source": [
    "data.Auction_class.replace({'임의':0, '강제':1},inplace=True)\n",
    "data.Apartment_usage.replace({'아파트' :0, '주상복합': 1}, inplace=True)\n",
    "data.Share_auction_YorN.replace({'Y':1,'N':0}, inplace=True)"
   ]
  },
  {
   "cell_type": "code",
   "execution_count": 8,
   "metadata": {},
   "outputs": [
    {
     "name": "stdout",
     "output_type": "stream",
     "text": [
      "<class 'pandas.core.frame.DataFrame'>\n",
      "Int64Index: 1890 entries, 0 to 1932\n",
      "Data columns (total 14 columns):\n",
      "Auction_class                  1890 non-null int64\n",
      "Total_land_auction_area        1890 non-null float64\n",
      "Total_building_auction_area    1890 non-null float64\n",
      "Apartment_usage                1890 non-null int64\n",
      "Share_auction_YorN             1890 non-null int64\n",
      "y                              1890 non-null int32\n",
      "Repreciation                   1890 non-null float64\n",
      "Duration                       1890 non-null float64\n",
      "minprice_per                   1890 non-null float64\n",
      "floor_per                      1890 non-null float64\n",
      "Miscarraige_per                1890 non-null float64\n",
      "Final_result_낙찰                1890 non-null uint8\n",
      "Close_result_                  1890 non-null uint8\n",
      "Close_result_배당                1890 non-null uint8\n",
      "dtypes: float64(7), int32(1), int64(3), uint8(3)\n",
      "memory usage: 175.3 KB\n"
     ]
    },
    {
     "data": {
      "text/plain": [
       "<matplotlib.axes._subplots.AxesSubplot at 0x207050bcd30>"
      ]
     },
     "execution_count": 8,
     "metadata": {},
     "output_type": "execute_result"
    },
    {
     "data": {
      "image/png": "[encoded data removed]",
      "text/plain": [
       "<Figure size 432x288 with 2 Axes>"
      ]
     },
     "metadata": {
      "needs_background": "light"
     },
     "output_type": "display_data"
    }
   ],
   "source": [
    "data=pd.get_dummies(data)\n",
    "data.info()\n",
    "X=data.drop(columns='y',axis=1,inplace=False).values\n",
    "y=data.y.values\n",
    "sb.heatmap(data.drop(columns='y',axis=1,inplace=False).corr())"
   ]
  },
  {
   "cell_type": "code",
   "execution_count": 9,
   "metadata": {},
   "outputs": [
    {
     "name": "stderr",
     "output_type": "stream",
     "text": [
      "C:\\Users\\j3eun\\Anaconda3\\envs\\tobigs\\lib\\site-packages\\sklearn\\linear_model\\logistic.py:433: FutureWarning: Default solver will be changed to 'lbfgs' in 0.22. Specify a solver to silence this warning.\n",
      "  FutureWarning)\n",
      "C:\\Users\\j3eun\\Anaconda3\\envs\\tobigs\\lib\\site-packages\\sklearn\\linear_model\\logistic.py:433: FutureWarning: Default solver will be changed to 'lbfgs' in 0.22. Specify a solver to silence this warning.\n",
      "  FutureWarning)\n",
      "C:\\Users\\j3eun\\Anaconda3\\envs\\tobigs\\lib\\site-packages\\sklearn\\linear_model\\logistic.py:433: FutureWarning: Default solver will be changed to 'lbfgs' in 0.22. Specify a solver to silence this warning.\n",
      "  FutureWarning)\n",
      "C:\\Users\\j3eun\\Anaconda3\\envs\\tobigs\\lib\\site-packages\\sklearn\\linear_model\\logistic.py:433: FutureWarning: Default solver will be changed to 'lbfgs' in 0.22. Specify a solver to silence this warning.\n",
      "  FutureWarning)\n",
      "C:\\Users\\j3eun\\Anaconda3\\envs\\tobigs\\lib\\site-packages\\sklearn\\linear_model\\logistic.py:433: FutureWarning: Default solver will be changed to 'lbfgs' in 0.22. Specify a solver to silence this warning.\n",
      "  FutureWarning)\n"
     ]
    },
    {
     "data": {
      "text/plain": [
       "0.7709108355091432"
      ]
     },
     "execution_count": 9,
     "metadata": {},
     "output_type": "execute_result"
    }
   ],
   "source": [
    "from sklearn.model_selection import cross_val_score\n",
    "cross_val_score(LogisticRegression(), X, y, cv = 5).mean()"
   ]
  },
  {
   "cell_type": "code",
   "execution_count": 10,
   "metadata": {},
   "outputs": [
    {
     "data": {
      "text/plain": [
       "0.7492175286643488"
      ]
     },
     "execution_count": 10,
     "metadata": {},
     "output_type": "execute_result"
    }
   ],
   "source": [
    "cross_val_score(GaussianNB(), X, y, cv = 5).mean()"
   ]
  },
  {
   "cell_type": "code",
   "execution_count": 11,
   "metadata": {},
   "outputs": [
    {
     "name": "stdout",
     "output_type": "stream",
     "text": [
      "{'algorithm': 'auto', 'leaf_size': 1, 'n_jobs': -1, 'n_neighbors': 5}\n"
     ]
    },
    {
     "data": {
      "text/plain": [
       "0.7078999108568756"
      ]
     },
     "execution_count": 11,
     "metadata": {},
     "output_type": "execute_result"
    }
   ],
   "source": [
    "\n",
    "parameters = {'n_neighbors':[4,5,6,7],\n",
    "              'leaf_size':[1,3,5],\n",
    "              'algorithm':['auto', 'kd_tree'],\n",
    "              'n_jobs':[-1]}\n",
    "grid_search=GridSearchCV(KNeighborsClassifier(n_neighbors=5), parameters, cv=5)\n",
    "grid_search.fit(X,y)\n",
    "print(grid_search.best_params_)\n",
    "cross_val_score(GridSearchCV(KNeighborsClassifier(n_neighbors=5), parameters, cv=5),X,y, cv=5).mean()\n",
    "\n"
   ]
  },
  {
   "cell_type": "code",
   "execution_count": 12,
   "metadata": {},
   "outputs": [
    {
     "name": "stdout",
     "output_type": "stream",
     "text": [
      "{'C': 10, 'gamma': 0.001}\n"
     ]
    },
    {
     "data": {
      "text/plain": [
       "0.7063013372357382"
      ]
     },
     "execution_count": 12,
     "metadata": {},
     "output_type": "execute_result"
    }
   ],
   "source": [
    "Cs = [0.001,0.01,0.1,1,10,]\n",
    "gammas = [0.001, 0.01, 0.1, 1]\n",
    "param_grid = {'C': Cs, 'gamma' : gammas}\n",
    "grid_search = GridSearchCV(svm.SVC(kernel='rbf'), param_grid, cv=5)\n",
    "grid_search.fit(X, y)\n",
    "print(grid_search.best_params_)\n",
    "cross_val_score(GridSearchCV(svm.SVC(kernel='rbf'),param_grid,cv=5),X,y,cv=5).mean()\n"
   ]
  },
  {
   "cell_type": "code",
   "execution_count": null,
   "metadata": {},
   "outputs": [],
   "source": [
    "'''\n",
    "knn이 가장 성능이 안 좋았다. 이는, 아마도 자료들이 다들 비슷하게 골고루 위치하고 잇어서 인 것 같다.\n",
    "svm도 그리 좋은 편은 아니였다. nonlinear도 고려했지만 이런 것으로 보아, 자료개수에 비해 변수들이 많아서, linear svm가 더 잘 맞을\n",
    "수 있는 것 같다.\n",
    "Naive Bayes는 확률 계산을 하는 것인데, 우리가 이미 절반은 1 절반은 0으로 해두어서 아이가 헷갈리지 않고 일정 포인트를 기준으로\n",
    "잘 분류해준 것 같다.\n",
    "또한, 사실 knn이나 svm에서 모수들을 다양하게 시도해보면 정확도가 달라질 것이므로 그점을 염두해 둬야한다.\n",
    "모수를 잘 맞추면 logistic regression보다 성능이 더 높아질 가능성 많음.\n",
    "모수 range을 다양하게 하고나서 돌리면, 성능은 훨씬 좋아지겠지만, 시간이 진짜 많이 걸린다..\n",
    "결론적으로,,, 나중에 모델이 진짜 필요하게 되면 시간을 들여서 할 수 밖에 없어보인다.\n",
    "혹은, R로 돌릴시에는 훨씬 빨리돌아간다... \n",
    "'''"
   ]
  }
 ],
 "metadata": {
  "kernelspec": {
   "display_name": "Python 3",
   "language": "python",
   "name": "python3"
  },
  "language_info": {
   "codemirror_mode": {
    "name": "ipython",
    "version": 3
   },
   "file_extension": ".py",
   "mimetype": "text/x-python",
   "name": "python",
   "nbconvert_exporter": "python",
   "pygments_lexer": "ipython3",
   "version": "3.7.2"
  }
 },
 "nbformat": 4,
 "nbformat_minor": 2
}
