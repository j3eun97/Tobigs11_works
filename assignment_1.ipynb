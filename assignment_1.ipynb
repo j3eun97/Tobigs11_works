{
 "cells": [
  {
   "cell_type": "markdown",
   "metadata": {},
   "source": [
    "# AlexNet\n",
    "\n",
    "- [paper](http://www.cs.toronto.edu/~fritz/absps/imagenet.pdf)\n",
    "\n",
    "- [imagenet data(2012)](http://image-net.org/challenges/LSVRC/2012/index#task)\n",
    "\n",
    "- [code](https://pytorch.org/docs/0.4.0/_modules/torchvision/models/alexnet.html)\n",
    "\n",
    "- Model architecture\n",
    "![model_architecture](https://cv-tricks.com/wp-content/uploads/2017/03/xalexnet_small-1.png.pagespeed.ic.u_mv-jhXMI.webp)"
   ]
  },
  {
   "cell_type": "markdown",
   "metadata": {},
   "source": [
    "### Naive Version\n",
    "CONV_1 - POOL_1 - CONV_2 - POOL_2 - CONV_3 - CONV_4 - CONV_5 - POOL_3 - FC1 - FC2 - FC3 (->SOFTMAX)"
   ]
  },
  {
   "cell_type": "markdown",
   "metadata": {},
   "source": [
    "### detailed\n",
    "CONV_1(ReLU) - POOL_1 - CONV_2(ReLU) - POOL_2 - CONV_3(ReLU) - CONV_4(ReLU) - CONV_5(ReLU) - POOL_3 -(Flatten) FC1(ReLU) - FC2(ReLU) - FC3(->SOFTMAX)"
   ]
  },
  {
   "cell_type": "code",
   "execution_count": null,
   "metadata": {},
   "outputs": [],
   "source": []
  },
  {
   "cell_type": "markdown",
   "metadata": {},
   "source": [
    "# Q.1 fill in the '????' & 'TODO'"
   ]
  },
  {
   "cell_type": "markdown",
   "metadata": {},
   "source": [
    "### Layer 1 is a Convolution Layer_1\n",
    "\n",
    "- **Input Image size**     224 x 224 x 3 -> 227 x 227 x 3\n",
    "\n",
    "- **Number of filters ** 96\n",
    "\n",
    "- **Filter size** 11 x 11 x 3\n",
    "\n",
    "- **Stride** 4\n",
    "\n",
    "- **Layer 1 Output**  55 x 55 x 96 (because of stride 4)\n",
    "\n",
    "\n"
   ]
  },
  {
   "cell_type": "code",
   "execution_count": 1,
   "metadata": {},
   "outputs": [
    {
     "data": {
      "text/plain": [
       "55.0"
      ]
     },
     "execution_count": 1,
     "metadata": {},
     "output_type": "execute_result"
    }
   ],
   "source": [
    "(227-11)/4 + 1"
   ]
  },
  {
   "cell_type": "code",
   "execution_count": null,
   "metadata": {},
   "outputs": [],
   "source": [
    "## TODO ##\n",
    "\n",
    "######################################################\n",
    "#  Calculate the number of parameters in this layer  #\n",
    "######################################################\n",
    "\n",
    "Conv_1 = (11*11*3) * 96 + 96 =34944\n",
    "\n",
    "'''last 96 for Bias\n",
    "# of wieghts of Conv layer= 11*11*3*96=34848\n",
    "# of biases of Conv layer=96\n",
    "# of parameters of Conv layer = 34838+96 = 34944\n",
    "'''\n",
    "\n"
   ]
  },
  {
   "cell_type": "markdown",
   "metadata": {},
   "source": [
    "### Layer 2 is a Max Pooling_1 Followed by Convolution_1\n",
    "\n",
    "- **Input**  55 x 55 x 96\n",
    "\n",
    "- **Max pooling**  \n",
    "\n",
    "- **Pooling size**(overlapping) 3 x 3\n",
    "\n",
    "- **Stride** 2\n",
    "\n",
    "- **Layer 2 Output** 27 x 27 x 96\n"
   ]
  },
  {
   "cell_type": "code",
   "execution_count": null,
   "metadata": {},
   "outputs": [],
   "source": [
    "## TODO \n",
    "\n",
    "######################################################\n",
    "#  Calculate the number of parameters in this layer  #\n",
    "######################################################\n",
    "\n",
    "Max_pool_1 = 0"
   ]
  },
  {
   "cell_type": "markdown",
   "metadata": {},
   "source": [
    "### Layer 3 is a a Convolution Layer_2\n",
    "\n",
    "- **Input**  27 x 27 x 96\n",
    "\n",
    "- **Number of filters**  256\n",
    "\n",
    "- **Filter size**  5 x 5 x 96 \n",
    "\n",
    "- **Stride** 1\n",
    "\n",
    "- **padding** 2\n",
    "\n",
    "- **Layer 3 Output** ????\n"
   ]
  },
  {
   "cell_type": "code",
   "execution_count": null,
   "metadata": {},
   "outputs": [],
   "source": [
    "## TODO \n",
    "\n",
    "######################################################\n",
    "#  Calculate the number of parameters in this layer  #\n",
    "######################################################\n",
    "\n",
    "Conv_2 = (5*5*96*256)+256=614656\n",
    "'''\n",
    "Layer3 Output= 13*13*256\n",
    "'''"
   ]
  },
  {
   "cell_type": "markdown",
   "metadata": {},
   "source": [
    "### Layer 4 is a Max Pooling_2 Followed by Convolution_2\n",
    "\n",
    "- **Input**  ????\n",
    "\n",
    "- **Max pooling**  \n",
    "\n",
    "- **Pooling size**(overlapping) 3 x 3\n",
    "\n",
    "- **Stride** 2\n",
    "\n",
    "- **Layer 4 Output** ????"
   ]
  },
  {
   "cell_type": "code",
   "execution_count": null,
   "metadata": {},
   "outputs": [],
   "source": [
    "## TODO \n",
    "\n",
    "######################################################\n",
    "#  Calculate the number of parameters in this layer  #\n",
    "######################################################\n",
    "\n",
    "Max_pool_2 = 0\n",
    "'''\n",
    "Input 13*13*256\n",
    "Output 13*13*384\n",
    "'''"
   ]
  },
  {
   "cell_type": "markdown",
   "metadata": {},
   "source": [
    "### Layer 5 is a a Convolution Layer_3\n",
    "\n",
    "- **Input**  ???\n",
    "\n",
    "- **Number of filters**  384\n",
    "\n",
    "- **Filter size**  3 x 3 x ????\n",
    "\n",
    "- **Stride** 1\n",
    "\n",
    "- **padding** ????\n",
    "\n",
    "- **Layer 5 Output** ????\n"
   ]
  },
  {
   "cell_type": "code",
   "execution_count": null,
   "metadata": {},
   "outputs": [],
   "source": [
    "## TODO \n",
    "\n",
    "######################################################\n",
    "#  Calculate the number of parameters in this layer  #\n",
    "######################################################\n",
    "Conv_3 = (3*3*256*384)+384 = 885120\n",
    "'''\n",
    "Input 13*13*256\n",
    "Output 13*13*384\n",
    "'''"
   ]
  },
  {
   "cell_type": "markdown",
   "metadata": {},
   "source": [
    "### Layer 6 is  a Convolution Layer_4\n",
    "\n",
    "- **Input**  ???\n",
    "\n",
    "- **Number of filters**  384\n",
    "\n",
    "- **Filter size**  3 x 3 x ????\n",
    "\n",
    "- **Stride** 1\n",
    "\n",
    "- **padding** ????\n",
    "\n",
    "- **Layer 6 Output** ????"
   ]
  },
  {
   "cell_type": "code",
   "execution_count": null,
   "metadata": {},
   "outputs": [],
   "source": [
    "## TODO \n",
    "\n",
    "######################################################\n",
    "#  Calculate the number of parameters in this layer  #\n",
    "######################################################\n",
    "Conv_4 = (3*3*384*384)+384=1327488\n",
    "'''\n",
    "Input 13*13*384\n",
    "Output 13*13*256\n",
    "'''"
   ]
  },
  {
   "cell_type": "markdown",
   "metadata": {},
   "source": [
    "### Layer 7 is a Convolution Layer_5\n",
    "\n",
    "- **Input**  ???\n",
    "\n",
    "- **Number of filters**  256\n",
    "\n",
    "- **Filter size**  ???? x ???? x 256\n",
    "\n",
    "- **Stride** 1\n",
    "\n",
    "- **padding** 1\n",
    "\n",
    "- **Layer 7 Output** ????"
   ]
  },
  {
   "cell_type": "code",
   "execution_count": null,
   "metadata": {},
   "outputs": [],
   "source": [
    "## TODO \n",
    "\n",
    "######################################################\n",
    "#  Calculate the number of parameters in this layer  #\n",
    "######################################################\n",
    "Conv_5 = (3*3*384*256)+256=884992\n",
    "'''\n",
    "Input 13*13*256\n",
    "Output 6*6*256\n",
    "'''"
   ]
  },
  {
   "cell_type": "markdown",
   "metadata": {},
   "source": [
    "### Layer 8 is a Max Pooling_3 Followed by Convolution_5\n",
    "\n",
    "- **Input**  13 x 13 x 256\n",
    "\n",
    "- **Max pooling**  \n",
    "\n",
    "- **Pooling size**(overlapping) 3 x 3\n",
    "\n",
    "- **Stride** 2\n",
    "\n",
    "- **Layer 8 Output** ????"
   ]
  },
  {
   "cell_type": "code",
   "execution_count": null,
   "metadata": {},
   "outputs": [],
   "source": [
    "## TODO \n",
    "\n",
    "######################################################\n",
    "#  Calculate the number of parameters in this layer  #\n",
    "######################################################\n",
    "\n",
    "Max_pool_3 = 0\n",
    "'''\n",
    "Output 6*6*256\n",
    "'''"
   ]
  },
  {
   "cell_type": "markdown",
   "metadata": {},
   "source": [
    "### Layer 9 is a Fully_Connected layer_1\n",
    "\n",
    "- **input** ???? x ???? x 256\n",
    "\n",
    "- **flatten** ????\n",
    "\n",
    "- **output size** (N,flatten) x (flatten,4096)\n",
    "\n",
    "- **N** Number of input data"
   ]
  },
  {
   "cell_type": "code",
   "execution_count": null,
   "metadata": {},
   "outputs": [],
   "source": [
    "## TODO \n",
    "\n",
    "######################################################\n",
    "#  Calculate the number of parameters in this layer  #\n",
    "######################################################\n",
    "FC1 = 6*6*256*4096+4096=37752832\n",
    "'''\n",
    "Input 6*6*256\n",
    "Output 1*4096\n",
    "\n",
    "\n",
    "'''"
   ]
  },
  {
   "cell_type": "markdown",
   "metadata": {},
   "source": [
    "### Layer 10 is a Fully_Connected layer_2\n",
    "\n",
    "- **input** (N,4096)\n",
    "\n",
    "- **output size** (N,4096) x (4096,4096)\n",
    "\n",
    "- **N** Number of input data"
   ]
  },
  {
   "cell_type": "code",
   "execution_count": null,
   "metadata": {},
   "outputs": [],
   "source": [
    "## TODO \n",
    "\n",
    "######################################################\n",
    "#  Calculate the number of parameters in this layer  #\n",
    "######################################################\n",
    "\n",
    "FC2 = 4096*4096+4096=16781312\n"
   ]
  },
  {
   "cell_type": "markdown",
   "metadata": {},
   "source": [
    "### Layer 11 is a Fully_Connected layer_3\n",
    "\n",
    "- **input** (N,4096)\n",
    "\n",
    "- **output size** (N,4096) x (4096,Num_classes)\n",
    "\n",
    "- **N** Number of input data\n",
    "\n",
    "- **Num_classes** Number of labels"
   ]
  },
  {
   "cell_type": "code",
   "execution_count": null,
   "metadata": {},
   "outputs": [],
   "source": [
    "## TODO \n",
    "\n",
    "######################################################\n",
    "#  Calculate the number of parameters in this layer  #\n",
    "######################################################\n",
    "\n",
    "FC3 = 4096*1000+1000=4097000"
   ]
  },
  {
   "cell_type": "code",
   "execution_count": null,
   "metadata": {},
   "outputs": [],
   "source": []
  },
  {
   "cell_type": "code",
   "execution_count": null,
   "metadata": {},
   "outputs": [],
   "source": []
  },
  {
   "cell_type": "markdown",
   "metadata": {},
   "source": [
    "# Q.2 Does AlexNet use Dropout?"
   ]
  },
  {
   "cell_type": "code",
   "execution_count": null,
   "metadata": {},
   "outputs": [],
   "source": [
    "## TODO\n",
    "'''\n",
    "  if yes:\n",
    "    tell me which layer Drop out used in \n",
    "  else:\n",
    "      i don't think so.\n",
    "'''"
   ]
  },
  {
   "cell_type": "code",
   "execution_count": null,
   "metadata": {},
   "outputs": [],
   "source": [
    "'''\n",
    "Fully_conected layer에서 일어난다.\n",
    "'''"
   ]
  },
  {
   "cell_type": "markdown",
   "metadata": {},
   "source": [
    "# Q.3 Why ReLU?\n"
   ]
  },
  {
   "cell_type": "code",
   "execution_count": null,
   "metadata": {},
   "outputs": [],
   "source": [
    "## TODO\n",
    "'''\n",
    "why did they use ReLU?\n",
    "더 빨리 train이 된다.\n",
    "RELU naturally enforce sparsity unlike sigmoidal units and that helps. \n",
    "what are non-saturating neurons and saturating neurons?\n",
    "non-saturating= RELU\n",
    "saturating=tanh, sigmoid function\n",
    "'''"
   ]
  },
  {
   "cell_type": "markdown",
   "metadata": {},
   "source": [
    "# Q.4 Reducing Overfitting ( how ?)\n"
   ]
  },
  {
   "cell_type": "code",
   "execution_count": null,
   "metadata": {},
   "outputs": [],
   "source": [
    "## TODO\n",
    "'''\n",
    "what did they do to reduce overfitting in Alex net?\n",
    "at least 2 methods\n",
    "regularization 대신 dropout을 이용하였다.\n",
    "Data Augmentation을 이용하였다. \n",
    "\n",
    "'''"
   ]
  }
 ],
 "metadata": {
  "kernelspec": {
   "display_name": "Python 3",
   "language": "python",
   "name": "python3"
  },
  "language_info": {
   "codemirror_mode": {
    "name": "ipython",
    "version": 3
   },
   "file_extension": ".py",
   "mimetype": "text/x-python",
   "name": "python",
   "nbconvert_exporter": "python",
   "pygments_lexer": "ipython3",
   "version": "3.6.8"
  }
 },
 "nbformat": 4,
 "nbformat_minor": 2
}
