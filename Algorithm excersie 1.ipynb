{
 "cells": [
  {
   "cell_type": "code",
   "execution_count": 21,
   "metadata": {},
   "outputs": [],
   "source": [
    "#1\n",
    "#영문 대소문자로 이루어진 문자열을 입력하였을 때, \n",
    "#문자열 내에 몇 개의 단어가 있는지 구하는 알고리즘을 작성하시오. (중복된 단어는 제외한다.)\n",
    "def distinct_words(a):\n",
    "    number=len(set(a.split()))\n",
    "    return number"
   ]
  },
  {
   "cell_type": "code",
   "execution_count": 22,
   "metadata": {},
   "outputs": [
    {
     "data": {
      "text/plain": [
       "6"
      ]
     },
     "execution_count": 22,
     "metadata": {},
     "output_type": "execute_result"
    }
   ],
   "source": [
    "distinct_words(\"I love to go to the park.\")"
   ]
  },
  {
   "cell_type": "code",
   "execution_count": 23,
   "metadata": {},
   "outputs": [],
   "source": [
    "#2\n",
    "#ABCABCDABCABEABCDEFBCABCCA 와 같은 영어 대문자로 이루 어진 문자열을 입력하였을 때 BCA 등의 문자열이 몇 번 등장하는가?\n",
    "def pattern_recognition(series, pattern):\n",
    "    number=series.count(pattern)\n",
    "    return number"
   ]
  },
  {
   "cell_type": "code",
   "execution_count": 24,
   "metadata": {},
   "outputs": [
    {
     "data": {
      "text/plain": [
       "4"
      ]
     },
     "execution_count": 24,
     "metadata": {},
     "output_type": "execute_result"
    }
   ],
   "source": [
    "pattern_recognition(\"ABCABFABCASEFRGABCAEBABC\", \"ABC\")"
   ]
  },
  {
   "cell_type": "code",
   "execution_count": 30,
   "metadata": {},
   "outputs": [],
   "source": [
    "#3\n",
    "#uncompress 함수는 숫자와 알파벳으로 구성된 문자열을 입력받아서 숫자만큼 알파벳을 반복시켜 반환하는 함수이다. \n",
    "#이 때 1~9 사이의 숫자 뒤에 알파벳이 하나 나오는 패턴이 반복된다. uncompress(s)를 작성하시오.\n",
    "def uncompress(s):\n",
    "    i = 0\n",
    "    sentence =''\n",
    "    while i < len(s):\n",
    "        if s[i].isdigit():\n",
    "            times = int(s[i])\n",
    "        else:\n",
    "            letter= s[i]\n",
    "            sentence += letter * times\n",
    "        i += 1\n",
    "    return sentence  "
   ]
  },
  {
   "cell_type": "code",
   "execution_count": 31,
   "metadata": {},
   "outputs": [
    {
     "data": {
      "text/plain": [
       "'bbbsse'"
      ]
     },
     "execution_count": 31,
     "metadata": {},
     "output_type": "execute_result"
    }
   ],
   "source": [
    "uncompress('3b2s1e')"
   ]
  },
  {
   "cell_type": "code",
   "execution_count": 72,
   "metadata": {},
   "outputs": [],
   "source": [
    "#4\n",
    "#하나의 단어를 입력받아서 그 단어에 들어 있는 모음('a','e','i','o','u’)의 개수를 각각 출력하는 프로그램을 작성하시오. \n",
    "#(반드시 사전과 for 반복문을 이용하시오)\n",
    "def count_vowels(a):\n",
    "    vowels = 'aeiou'\n",
    "    a=a.casefold()\n",
    "    count = {}.fromkeys(vowels,0)\n",
    "    for letter in a:\n",
    "        if letter in count:\n",
    "            count[letter] +=1\n",
    "    print(count)\n"
   ]
  },
  {
   "cell_type": "code",
   "execution_count": 73,
   "metadata": {},
   "outputs": [
    {
     "name": "stdout",
     "output_type": "stream",
     "text": [
      "{'a': 0, 'e': 1, 'i': 0, 'o': 2, 'u': 0}\n"
     ]
    }
   ],
   "source": [
    "count_vowels(\"Technology\")"
   ]
  },
  {
   "cell_type": "code",
   "execution_count": 70,
   "metadata": {},
   "outputs": [],
   "source": [
    "#5\n",
    "#anagram은 같은 구성요소를 가진 문자열들을 말한다. 예를 들어, ＇python＇ 문 자열의 anagram은 \n",
    "#＇python＇, ＇thnopy＇, ＇ythopn＇ 등 p,y,t,h,o,n으로 구성 된 문자열들이다. \n",
    "#하나의 문자열을 입력받아서 입력받은 문자열과 anagram 관계인 문자열들을 파일에서 모두 찾아 출력하고 anagram이\n",
    "#총 몇 개인지도 출력하는 프로 그램을 작성하시오.\n",
    "def permute_string(str):\n",
    "    if len(str) == 0:\n",
    "        return ['']\n",
    "    prev_list = permute_string(str[1:len(str)])\n",
    "    next_list = []\n",
    "    for i in range(0,len(prev_list)):\n",
    "        for j in range(0,len(str)):\n",
    "            new_str = prev_list[i][0:j]+str[0]+prev_list[i][j:len(str)-1]\n",
    "            if new_str not in next_list:\n",
    "                next_list.append(new_str)\n",
    "    return(next_list)\n",
    "def print_result(a):\n",
    "    print(permute_string(a))\n",
    "    print(len(permute_string(a)))\n",
    "\n",
    "def total(a):\n",
    "    permute_string(a)\n",
    "    print_result(a)"
   ]
  },
  {
   "cell_type": "code",
   "execution_count": 71,
   "metadata": {},
   "outputs": [
    {
     "name": "stdout",
     "output_type": "stream",
     "text": [
      "['happy', 'ahppy', 'aphpy', 'apphy', 'appyh', 'hpapy', 'phapy', 'pahpy', 'paphy', 'papyh', 'hppay', 'phpay', 'pphay', 'ppahy', 'ppayh', 'hppya', 'phpya', 'pphya', 'ppyha', 'ppyah', 'hapyp', 'ahpyp', 'aphyp', 'apyhp', 'apyph', 'hpayp', 'phayp', 'pahyp', 'payhp', 'payph', 'hpyap', 'phyap', 'pyhap', 'pyahp', 'pyaph', 'hpypa', 'phypa', 'pyhpa', 'pypha', 'pypah', 'haypp', 'ahypp', 'ayhpp', 'ayphp', 'aypph', 'hyapp', 'yhapp', 'yahpp', 'yaphp', 'yapph', 'hypap', 'yhpap', 'yphap', 'ypahp', 'ypaph', 'hyppa', 'yhppa', 'yphpa', 'yppha', 'yppah']\n",
      "60\n"
     ]
    }
   ],
   "source": [
    "total(\"happy\")"
   ]
  }
 ],
 "metadata": {
  "kernelspec": {
   "display_name": "Python 3",
   "language": "python",
   "name": "python3"
  },
  "language_info": {
   "codemirror_mode": {
    "name": "ipython",
    "version": 3
   },
   "file_extension": ".py",
   "mimetype": "text/x-python",
   "name": "python",
   "nbconvert_exporter": "python",
   "pygments_lexer": "ipython3",
   "version": "3.7.2"
  }
 },
 "nbformat": 4,
 "nbformat_minor": 2
}
