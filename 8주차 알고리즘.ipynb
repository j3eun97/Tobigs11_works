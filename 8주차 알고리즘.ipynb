{
 "cells": [
  {
   "cell_type": "code",
   "execution_count": 18,
   "metadata": {},
   "outputs": [
    {
     "name": "stdout",
     "output_type": "stream",
     "text": [
      "30\n"
     ]
    }
   ],
   "source": [
    "#1\n",
    "filename = 'data.txt'\n",
    "with open(filename, \"r\") as ins:\n",
    "    array = []\n",
    "    for line in ins:\n",
    "        array.append(line)\n",
    "#integer로 바꿔주는 과정\n",
    "newArray = []\n",
    "for i in array:\n",
    "    j = i.split(' ')\n",
    "    k = [int(n) for n in j]\n",
    "    newArray.append(k)\n",
    "l = len(newArray)\n",
    "# 최대합 찾아주는과정\n",
    "for i in range(l-1):\n",
    "    array1 = newArray[-1]\n",
    "    array2 = newArray[-2]\n",
    "    for j in range(len(array2)):\n",
    "        array2[j] += max(array1[j], array1[j+1])\n",
    "    newArray.pop(-1)\n",
    "    newArray[-1] = array2\n",
    "print (newArray[0][0] )  "
   ]
  },
  {
   "cell_type": "code",
   "execution_count": 26,
   "metadata": {},
   "outputs": [
    {
     "name": "stdout",
     "output_type": "stream",
     "text": [
      "31\n"
     ]
    }
   ],
   "source": [
    "#2\n",
    "from itertools import accumulate\n",
    "\n",
    "def max_path_sum(matrix):\n",
    "    if not matrix:\n",
    "        return 0 # 행의 개수가 0개 일때\n",
    "\n",
    "    rows = iter(matrix)\n",
    "    best = list(accumulate(next(rows)))\n",
    "    if not best:\n",
    "        return 0 # 열의 개수가 0개 일때                              \n",
    "\n",
    "    for row in rows:\n",
    "        best[0] += row[0]\n",
    "        for j in range(1, len(row)):\n",
    "            best[j]= row[j]+max(best[j-1], best[j]) \n",
    "#어짜피 금괴의 개수는 양수이기 때문에 대각선으로가는 것보다 꺽어가는게 대각선으로 가는 것 보다 항상 같거나 크다!\n",
    "            \n",
    "    return best[-1]\n",
    "\n",
    "if __name__ == '__main__':\n",
    "    with open(\"matrix.txt\") as file:\n",
    "        matrix = []\n",
    "        for line in file:\n",
    "            matrix.append(list(map(int, line.strip().split(\" \"))))\n",
    "        print(max_path_sum(matrix))"
   ]
  },
  {
   "cell_type": "code",
   "execution_count": 16,
   "metadata": {},
   "outputs": [],
   "source": [
    "#3   \n",
    "def mult(length, file_size):\n",
    "    \n",
    "    n = length\n",
    "    chain = []\n",
    "    for idx, i in enumerate(file_size):\n",
    "        new = (idx, i)\n",
    "        chain.append(new)\n",
    "    aux = {(i, i): (0,) + chain[i] for i in range(n)}\n",
    "    for i in range(1, n):\n",
    "        for j in range(0, n - i): \n",
    "            best = float('inf')\n",
    "            for k in range(j, j + i):\n",
    "                lcost, lname, lsize = aux[j, k] \n",
    "                rcost, rname, rsize = aux[k + 1, j + i] \n",
    "                cost = lcost + rcost + lsize + rsize\n",
    "                var = '(%s%s)' % (lname, rname) \n",
    "                if cost < best:\n",
    "                    best = cost\n",
    "                    aux[j, j + i] = cost, var, lsize+rsize\n",
    "    return dict(zip(['cost', 'order', 'size'], aux[0, n - 1]))"
   ]
  },
  {
   "cell_type": "code",
   "execution_count": 17,
   "metadata": {},
   "outputs": [
    {
     "data": {
      "text/plain": [
       "{'cost': 300, 'order': '((01)(23))', 'size': 150}"
      ]
     },
     "execution_count": 17,
     "metadata": {},
     "output_type": "execute_result"
    }
   ],
   "source": [
    "\n",
    "a = [40, 30, 30, 50]\n",
    "mult(len(a), a)\n"
   ]
  },
  {
   "cell_type": "code",
   "execution_count": null,
   "metadata": {},
   "outputs": [],
   "source": [
    "\n"
   ]
  },
  {
   "cell_type": "code",
   "execution_count": null,
   "metadata": {},
   "outputs": [],
   "source": []
  }
 ],
 "metadata": {
  "kernelspec": {
   "display_name": "Python 3",
   "language": "python",
   "name": "python3"
  },
  "language_info": {
   "codemirror_mode": {
    "name": "ipython",
    "version": 3
   },
   "file_extension": ".py",
   "mimetype": "text/x-python",
   "name": "python",
   "nbconvert_exporter": "python",
   "pygments_lexer": "ipython3",
   "version": "3.7.2"
  }
 },
 "nbformat": 4,
 "nbformat_minor": 2
}
